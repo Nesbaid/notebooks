{
 "cells": [
  {
   "cell_type": "code",
   "execution_count": 1,
   "metadata": {},
   "outputs": [],
   "source": [
    "from sympy import *"
   ]
  },
  {
   "cell_type": "code",
   "execution_count": 2,
   "metadata": {},
   "outputs": [
    {
     "name": "stdout",
     "output_type": "stream",
     "text": [
      "IPython console for SymPy 1.2 (Python 3.6.6-32-bit) (ground types: python)\n",
      "\n",
      "These commands were executed:\n",
      ">>> from __future__ import division\n",
      ">>> from sympy import *\n",
      ">>> x, y, z, t = symbols('x y z t')\n",
      ">>> k, m, n = symbols('k m n', integer=True)\n",
      ">>> f, g, h = symbols('f g h', cls=Function)\n",
      ">>> init_printing()\n",
      "\n",
      "Documentation can be found at http://docs.sympy.org/1.2/\n",
      "\n"
     ]
    }
   ],
   "source": [
    "init_session()"
   ]
  },
  {
   "cell_type": "code",
   "execution_count": 3,
   "metadata": {},
   "outputs": [
    {
     "data": {
      "image/png": "[encoded data removed]",
      "text/latex": [
       "$$\\frac{2 \\sin^{2}{\\left (x \\right )}}{\\sin{\\left (2 x \\right )}}$$"
      ],
      "text/plain": [
       "     2   \n",
       "2⋅sin (x)\n",
       "─────────\n",
       " sin(2⋅x)"
      ]
     },
     "execution_count": 3,
     "metadata": {},
     "output_type": "execute_result"
    }
   ],
   "source": [
    " tan(x).rewrite(sin)"
   ]
  },
  {
   "cell_type": "code",
   "execution_count": 4,
   "metadata": {},
   "outputs": [],
   "source": [
    "expr=exp(x*y*z)"
   ]
  },
  {
   "cell_type": "code",
   "execution_count": 5,
   "metadata": {},
   "outputs": [
    {
     "data": {
      "image/png": "[encoded data removed]",
      "text/latex": [
       "$$x \\left(x^{3} y^{3} z^{3} + 8 x^{2} y^{2} z^{2} + 14 x y z + 4\\right) e^{x y z}$$"
      ],
      "text/plain": [
       "  ⎛ 3  3  3      2  2  2               ⎞  x⋅y⋅z\n",
       "x⋅⎝x ⋅y ⋅z  + 8⋅x ⋅y ⋅z  + 14⋅x⋅y⋅z + 4⎠⋅ℯ     "
      ]
     },
     "execution_count": 5,
     "metadata": {},
     "output_type": "execute_result"
    }
   ],
   "source": [
    "dexpr=expr.diff(x,y,y,z,z)\n",
    "dexpr"
   ]
  },
  {
   "cell_type": "code",
   "execution_count": 6,
   "metadata": {},
   "outputs": [
    {
     "data": {
      "image/png": "[encoded data removed]",
      "text/latex": [
       "$$- \\left(- \\pi^{3} z^{3} + 8 \\pi^{2} z^{2} - 14 \\pi z + 4\\right) e^{- \\pi z}$$"
      ],
      "text/plain": [
       " ⎛   3  3      2  2             ⎞  -π⋅z\n",
       "-⎝- π ⋅z  + 8⋅π ⋅z  - 14⋅π⋅z + 4⎠⋅ℯ    "
      ]
     },
     "execution_count": 6,
     "metadata": {},
     "output_type": "execute_result"
    }
   ],
   "source": [
    "dexpr.subs({x:-1,y:pi})"
   ]
  },
  {
   "cell_type": "code",
   "execution_count": 7,
   "metadata": {},
   "outputs": [
    {
     "data": {
      "image/png": "[encoded data removed]",
      "text/latex": [
       "$$\\left [ \\left ( - \\frac{\\pi}{4}, \\quad \\frac{3 \\pi}{4}\\right ), \\quad \\left ( \\frac{\\pi}{4}, \\quad \\frac{\\pi}{4}\\right ), \\quad \\left ( \\frac{3 \\pi}{4}, \\quad \\frac{3 \\pi}{4}\\right ), \\quad \\left ( \\frac{5 \\pi}{4}, \\quad \\frac{\\pi}{4}\\right )\\right ]$$"
      ],
      "text/plain": [
       "⎡⎛-π   3⋅π⎞  ⎛π  π⎞  ⎛3⋅π  3⋅π⎞  ⎛5⋅π  π⎞⎤\n",
       "⎢⎜───, ───⎟, ⎜─, ─⎟, ⎜───, ───⎟, ⎜───, ─⎟⎥\n",
       "⎣⎝ 4    4 ⎠  ⎝4  4⎠  ⎝ 4    4 ⎠  ⎝ 4   4⎠⎦"
      ]
     },
     "execution_count": 7,
     "metadata": {},
     "output_type": "execute_result"
    }
   ],
   "source": [
    "solve([sin(x-y),cos(x+y)],[x,y])"
   ]
  },
  {
   "cell_type": "code",
   "execution_count": 8,
   "metadata": {},
   "outputs": [
    {
     "data": {
      "image/png": "[encoded data removed]",
      "text/latex": [
       "$$\\left ( \\left[\\begin{matrix}1 & 2 & 3\\\\3 & 2 & 1\\end{matrix}\\right], \\quad \\left[\\begin{matrix}0\\\\1\\\\0\\end{matrix}\\right], \\quad \\left[\\begin{matrix}2\\\\2\\end{matrix}\\right]\\right )$$"
      ],
      "text/plain": [
       "⎛           ⎡0⎤     ⎞\n",
       "⎜⎡1  2  3⎤  ⎢ ⎥  ⎡2⎤⎟\n",
       "⎜⎢       ⎥, ⎢1⎥, ⎢ ⎥⎟\n",
       "⎜⎣3  2  1⎦  ⎢ ⎥  ⎣2⎦⎟\n",
       "⎝           ⎣0⎦     ⎠"
      ]
     },
     "execution_count": 8,
     "metadata": {},
     "output_type": "execute_result"
    }
   ],
   "source": [
    "M=Matrix([[1,2,3],[3,2,1]])\n",
    "u=Matrix([0,1,0])\n",
    "M,u,M*u"
   ]
  },
  {
   "cell_type": "code",
   "execution_count": 9,
   "metadata": {},
   "outputs": [
    {
     "data": {
      "image/png": "[encoded data removed]",
      "text/latex": [
       "$$\\left ( \\left[\\begin{matrix}10 & 8 & 6\\\\8 & 8 & 8\\\\6 & 8 & 10\\end{matrix}\\right], \\quad \\left [ \\left[\\begin{matrix}1\\\\-2\\\\1\\end{matrix}\\right]\\right ], \\quad \\left \\{ 0 : 1, \\quad 4 : 1, \\quad 24 : 1\\right \\}\\right )$$"
      ],
      "text/plain": [
       "⎛⎡10  8  6 ⎤  ⎡⎡1 ⎤⎤                     ⎞\n",
       "⎜⎢         ⎥  ⎢⎢  ⎥⎥                     ⎟\n",
       "⎜⎢8   8  8 ⎥, ⎢⎢-2⎥⎥, {0: 1, 4: 1, 24: 1}⎟\n",
       "⎜⎢         ⎥  ⎢⎢  ⎥⎥                     ⎟\n",
       "⎝⎣6   8  10⎦  ⎣⎣1 ⎦⎦                     ⎠"
      ]
     },
     "execution_count": 9,
     "metadata": {},
     "output_type": "execute_result"
    }
   ],
   "source": [
    "A=M.T*M\n",
    "A,A.nullspace(),A.eigenvals()"
   ]
  },
  {
   "cell_type": "code",
   "execution_count": 10,
   "metadata": {},
   "outputs": [
    {
     "data": {
      "image/png": "[encoded data removed]",
      "text/latex": [
       "$$\\left ( \\left[\\begin{matrix}1 & -1 & 1\\\\-2 & 0 & 1\\\\1 & 1 & 1\\end{matrix}\\right], \\quad \\left[\\begin{matrix}0 & 0 & 0\\\\0 & 4 & 0\\\\0 & 0 & 24\\end{matrix}\\right]\\right )$$"
      ],
      "text/plain": [
       "⎛⎡1   -1  1⎤  ⎡0  0  0 ⎤⎞\n",
       "⎜⎢         ⎥  ⎢        ⎥⎟\n",
       "⎜⎢-2  0   1⎥, ⎢0  4  0 ⎥⎟\n",
       "⎜⎢         ⎥  ⎢        ⎥⎟\n",
       "⎝⎣1   1   1⎦  ⎣0  0  24⎦⎠"
      ]
     },
     "execution_count": 10,
     "metadata": {},
     "output_type": "execute_result"
    }
   ],
   "source": [
    "mats=A.diagonalize()\n",
    "mats"
   ]
  },
  {
   "cell_type": "code",
   "execution_count": 11,
   "metadata": {},
   "outputs": [
    {
     "data": {
      "image/png": "[encoded data removed]",
      "text/latex": [
       "$$\\left[\\begin{matrix}10 & 8 & 6\\\\8 & 8 & 8\\\\6 & 8 & 10\\end{matrix}\\right]$$"
      ],
      "text/plain": [
       "⎡10  8  6 ⎤\n",
       "⎢         ⎥\n",
       "⎢8   8  8 ⎥\n",
       "⎢         ⎥\n",
       "⎣6   8  10⎦"
      ]
     },
     "execution_count": 11,
     "metadata": {},
     "output_type": "execute_result"
    }
   ],
   "source": [
    "mats[0]*mats[1]*mats[0]**-1"
   ]
  },
  {
   "cell_type": "code",
   "execution_count": 12,
   "metadata": {},
   "outputs": [],
   "source": [
    "Matrix?"
   ]
  },
  {
   "cell_type": "code",
   "execution_count": 13,
   "metadata": {},
   "outputs": [],
   "source": [
    "Matrix??"
   ]
  },
  {
   "cell_type": "code",
   "execution_count": 20,
   "metadata": {},
   "outputs": [
    {
     "data": {
      "image/png": "[encoded data removed]",
      "text/latex": [
       "$$\\left[\\begin{matrix}85 & 54 & 19\\\\86 & 81 & 8\\\\0 & 46 & 50\\end{matrix}\\right]$$"
      ],
      "text/plain": [
       "⎡85  54  19⎤\n",
       "⎢          ⎥\n",
       "⎢86  81  8 ⎥\n",
       "⎢          ⎥\n",
       "⎣0   46  50⎦"
      ]
     },
     "execution_count": 20,
     "metadata": {},
     "output_type": "execute_result"
    }
   ],
   "source": [
    "from sympy.matrices import randMatrix\n",
    "A=randMatrix(3)\n",
    "A"
   ]
  },
  {
   "cell_type": "code",
   "execution_count": 23,
   "metadata": {},
   "outputs": [
    {
     "data": {
      "image/png": "[encoded data removed]",
      "text/latex": [
       "$$\\left ( \\left [ \\right ], \\quad \\left \\{ 72 + \\left(- \\frac{1}{2} - \\frac{\\sqrt{3} i}{2}\\right) \\sqrt[3]{2 \\sqrt{364641478} + 84987} + \\frac{1793}{\\left(- \\frac{1}{2} - \\frac{\\sqrt{3} i}{2}\\right) \\sqrt[3]{2 \\sqrt{364641478} + 84987}} : 1, \\quad 72 + \\frac{1793}{\\left(- \\frac{1}{2} + \\frac{\\sqrt{3} i}{2}\\right) \\sqrt[3]{2 \\sqrt{364641478} + 84987}} + \\left(- \\frac{1}{2} + \\frac{\\sqrt{3} i}{2}\\right) \\sqrt[3]{2 \\sqrt{364641478} + 84987} : 1, \\quad \\frac{1793}{\\sqrt[3]{2 \\sqrt{364641478} + 84987}} + \\sqrt[3]{2 \\sqrt{364641478} + 84987} + 72 : 1\\right \\}\\right )$$"
      ],
      "text/plain": [
       "⎛    ⎧     ⎛  1   √3⋅ⅈ⎞ 3 ______________________                    1793      \n",
       "⎜[], ⎪72 + ⎜- ─ - ────⎟⋅╲╱ 2⋅√364641478 + 84987  + ───────────────────────────\n",
       "⎜    ⎨     ⎝  2    2  ⎠                            ⎛  1   √3⋅ⅈ⎞ 3 ____________\n",
       "⎜    ⎪                                             ⎜- ─ - ────⎟⋅╲╱ 2⋅√36464147\n",
       "⎝    ⎩                                             ⎝  2    2  ⎠               \n",
       "\n",
       "                                     1793                   ⎛  1   √3⋅ⅈ⎞ 3 ___\n",
       "──────────: 1, 72 + ───────────────────────────────────── + ⎜- ─ + ────⎟⋅╲╱ 2⋅\n",
       "__________          ⎛  1   √3⋅ⅈ⎞ 3 ______________________   ⎝  2    2  ⎠      \n",
       "8 + 84987           ⎜- ─ + ────⎟⋅╲╱ 2⋅√364641478 + 84987                      \n",
       "                    ⎝  2    2  ⎠                                              \n",
       "\n",
       "___________________               1793             3 ______________________   \n",
       "√364641478 + 84987 : 1, ──────────────────────── + ╲╱ 2⋅√364641478 + 84987  + \n",
       "                        3 ______________________                              \n",
       "                        ╲╱ 2⋅√364641478 + 84987                               \n",
       "                                                                              \n",
       "\n",
       "     ⎫⎞\n",
       "72: 1⎪⎟\n",
       "     ⎬⎟\n",
       "     ⎪⎟\n",
       "     ⎭⎠"
      ]
     },
     "execution_count": 23,
     "metadata": {},
     "output_type": "execute_result"
    }
   ],
   "source": [
    "A.nullspace(), A.eigenvals()"
   ]
  },
  {
   "cell_type": "code",
   "execution_count": 26,
   "metadata": {},
   "outputs": [
    {
     "data": {
      "image/png": "[encoded data removed]",
      "text/latex": [
       "$$X_{0, 1} X_{0, 2} + X_{1, 1} X_{1, 2} + X_{2, 1} X_{2, 2}$$"
      ],
      "text/plain": [
       "X₀₁⋅X₀₂ + X₁₁⋅X₁₂ + X₂₁⋅X₂₂"
      ]
     },
     "execution_count": 26,
     "metadata": {},
     "output_type": "execute_result"
    }
   ],
   "source": [
    "X=MatrixSymbol('X',3,3)\n",
    "(X.T*X)[1,2]"
   ]
  },
  {
   "cell_type": "code",
   "execution_count": 34,
   "metadata": {},
   "outputs": [
    {
     "data": {
      "image/png": "[encoded data removed]",
      "text/latex": [
       "$$\\left ( \\left[\\begin{matrix}x & 5\\\\6 & y\\end{matrix}\\right], \\quad x y - 30, \\quad -1 + \\pi, \\quad \\left[\\begin{matrix}- \\frac{6 \\pi}{6 \\pi + 180} & \\frac{30}{6 \\pi + 180}\\\\\\frac{6}{\\pi + 30} & \\frac{1}{\\pi + 30}\\end{matrix}\\right]\\right )$$"
      ],
      "text/plain": [
       "⎛                          ⎡  -6⋅π         30   ⎤⎞\n",
       "⎜                          ⎢─────────  ─────────⎥⎟\n",
       "⎜⎡x  5⎤                    ⎢6⋅π + 180  6⋅π + 180⎥⎟\n",
       "⎜⎢    ⎥, x⋅y - 30, -1 + π, ⎢                    ⎥⎟\n",
       "⎜⎣6  y⎦                    ⎢   6          1     ⎥⎟\n",
       "⎜                          ⎢ ──────     ──────  ⎥⎟\n",
       "⎝                          ⎣ π + 30     π + 30  ⎦⎠"
      ]
     },
     "execution_count": 34,
     "metadata": {},
     "output_type": "execute_result"
    }
   ],
   "source": [
    "A=Matrix([[x,5],[6,y]])\n",
    "A, A.det(), A.trace().subs({x:-1,y:pi}),A.inv().subs({x:-1,y:pi})"
   ]
  },
  {
   "cell_type": "code",
   "execution_count": 38,
   "metadata": {},
   "outputs": [],
   "source": [
    "B=BlockDiagMatrix(A,X)"
   ]
  },
  {
   "cell_type": "code",
   "execution_count": 40,
   "metadata": {},
   "outputs": [
    {
     "ename": "AttributeError",
     "evalue": "'BlockDiagMatrix' object has no attribute 'det'",
     "output_type": "error",
     "traceback": [
      "\u001b[0;31m---------------------------------------------------------------------------\u001b[0m",
      "\u001b[0;31mAttributeError\u001b[0m                            Traceback (most recent call last)",
      "\u001b[0;32m<ipython-input-40-c05863c44192>\u001b[0m in \u001b[0;36m<module>\u001b[0;34m()\u001b[0m\n\u001b[0;32m----> 1\u001b[0;31m \u001b[0mB\u001b[0m\u001b[0;34m,\u001b[0m \u001b[0mB\u001b[0m\u001b[0;34m.\u001b[0m\u001b[0mdet\u001b[0m\u001b[0;34m(\u001b[0m\u001b[0;34m)\u001b[0m\u001b[0;34m\u001b[0m\u001b[0m\n\u001b[0m",
      "\u001b[0;31mAttributeError\u001b[0m: 'BlockDiagMatrix' object has no attribute 'det'"
     ]
    }
   ],
   "source": [
    "B, B.det()"
   ]
  },
  {
   "cell_type": "code",
   "execution_count": 46,
   "metadata": {},
   "outputs": [
    {
     "data": {
      "image/png": "[encoded data removed]",
      "text/latex": [
       "$$15$$"
      ],
      "text/plain": [
       "15"
      ]
     },
     "execution_count": 46,
     "metadata": {},
     "output_type": "execute_result"
    }
   ],
   "source": [
    "f=4*x**2 - 1\n",
    "f.subs({x:2})"
   ]
  },
  {
   "cell_type": "code",
   "execution_count": 14,
   "metadata": {},
   "outputs": [
    {
     "data": {
      "image/png": "[encoded data removed]",
      "text/latex": [
       "$$\\left ( 0, \\quad \\mathrm{True}\\right )$$"
      ],
      "text/plain": [
       "(0, True)"
      ]
     },
     "execution_count": 14,
     "metadata": {},
     "output_type": "execute_result"
    }
   ],
   "source": [
    "42/oo,oo>367"
   ]
  },
  {
   "cell_type": "markdown",
   "metadata": {},
   "source": [
    "#  Combinatorics module"
   ]
  },
  {
   "cell_type": "code",
   "execution_count": 15,
   "metadata": {},
   "outputs": [],
   "source": [
    "from sympy.combinatorics.partitions import IntegerPartition,random_integer_partition"
   ]
  },
  {
   "cell_type": "code",
   "execution_count": 16,
   "metadata": {},
   "outputs": [
    {
     "data": {
      "image/png": "[encoded data removed]",
      "text/latex": [
       "$$[8]$$"
      ],
      "text/plain": [
       "[8]"
      ]
     },
     "execution_count": 16,
     "metadata": {},
     "output_type": "execute_result"
    }
   ],
   "source": [
    "P=random_integer_partition(8)\n",
    "P=IntegerPartition(P)\n",
    "P"
   ]
  },
  {
   "cell_type": "code",
   "execution_count": 17,
   "metadata": {},
   "outputs": [
    {
     "data": {
      "image/png": "[encoded data removed]",
      "text/latex": [
       "$$\\left [ 1, \\quad 1, \\quad 1, \\quad 1, \\quad 1, \\quad 1, \\quad 1, \\quad 1\\right ]$$"
      ],
      "text/plain": [
       "[1, 1, 1, 1, 1, 1, 1, 1]"
      ]
     },
     "execution_count": 17,
     "metadata": {},
     "output_type": "execute_result"
    }
   ],
   "source": [
    "P.conjugate"
   ]
  },
  {
   "cell_type": "code",
   "execution_count": 18,
   "metadata": {},
   "outputs": [
    {
     "name": "stdout",
     "output_type": "stream",
     "text": [
      "########\n"
     ]
    }
   ],
   "source": [
    "print(P.as_ferrers())"
   ]
  },
  {
   "cell_type": "code",
   "execution_count": null,
   "metadata": {},
   "outputs": [],
   "source": []
  }
 ],
 "metadata": {
  "kernelspec": {
   "display_name": "Python 3",
   "language": "python",
   "name": "python3"
  },
  "language_info": {
   "codemirror_mode": {
    "name": "ipython",
    "version": 3
   },
   "file_extension": ".py",
   "mimetype": "text/x-python",
   "name": "python",
   "nbconvert_exporter": "python",
   "pygments_lexer": "ipython3",
   "version": "3.7.0"
  }
 },
 "nbformat": 4,
 "nbformat_minor": 2
}
