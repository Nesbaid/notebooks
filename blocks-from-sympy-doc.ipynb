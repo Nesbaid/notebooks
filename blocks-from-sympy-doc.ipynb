{
 "cells": [
  {
   "cell_type": "markdown",
   "metadata": {},
   "source": [
    "\n",
    "# General\n",
    "\n"
   ]
  },
  {
   "cell_type": "code",
   "execution_count": 1,
   "metadata": {},
   "outputs": [],
   "source": [
    "from sympy import *"
   ]
  },
  {
   "cell_type": "code",
   "execution_count": 3,
   "metadata": {},
   "outputs": [],
   "source": [
    "init_printing()"
   ]
  },
  {
   "cell_type": "code",
   "execution_count": 4,
   "metadata": {},
   "outputs": [
    {
     "data": {
      "image/png": "[encoded data removed]",
      "text/latex": [
       "$$\\frac{e^{x} \\sin{\\left (x \\right )}}{2} + \\frac{e^{x} \\cos{\\left (x \\right )}}{2}$$"
      ],
      "text/plain": [
       " x           x       \n",
       "ℯ ⋅sin(x)   ℯ ⋅cos(x)\n",
       "───────── + ─────────\n",
       "    2           2    "
      ]
     },
     "execution_count": 4,
     "metadata": {},
     "output_type": "execute_result"
    }
   ],
   "source": [
    "x = symbols('x')\n",
    "a = Integral(cos(x)*exp(x), x)\n",
    "a.doit()"
   ]
  },
  {
   "cell_type": "markdown",
   "metadata": {},
   "source": [
    "exp(x)\\*sin(x)/2 + exp(x)\\*cos(x)/2\n",
    "\n"
   ]
  },
  {
   "cell_type": "code",
   "execution_count": 5,
   "metadata": {},
   "outputs": [
    {
     "data": {
      "image/png": "[encoded data removed]",
      "text/latex": [
       "$$\\sqrt{3}$$"
      ],
      "text/plain": [
       "√3"
      ]
     },
     "execution_count": 5,
     "metadata": {},
     "output_type": "execute_result"
    }
   ],
   "source": [
    "sqrt(3)"
   ]
  },
  {
   "cell_type": "code",
   "execution_count": 6,
   "metadata": {},
   "outputs": [
    {
     "data": {
      "image/png": "[encoded data removed]",
      "text/latex": [
       "$$2 y$$"
      ],
      "text/plain": [
       "2⋅y"
      ]
     },
     "execution_count": 6,
     "metadata": {},
     "output_type": "execute_result"
    }
   ],
   "source": [
    "y = symbols('y')\n",
    "expr = x + 2*y\n",
    "expr-x"
   ]
  },
  {
   "cell_type": "code",
   "execution_count": 7,
   "metadata": {},
   "outputs": [
    {
     "data": {
      "image/png": "[encoded data removed]",
      "text/latex": [
       "$$x^{2} + 2 x y$$"
      ],
      "text/plain": [
       " 2        \n",
       "x  + 2⋅x⋅y"
      ]
     },
     "execution_count": 7,
     "metadata": {},
     "output_type": "execute_result"
    }
   ],
   "source": [
    "expanded = expand(x*expr)\n",
    "expanded"
   ]
  },
  {
   "cell_type": "code",
   "execution_count": 8,
   "metadata": {},
   "outputs": [
    {
     "data": {
      "image/png": "[encoded data removed]",
      "text/latex": [
       "$$x \\left(x + 2 y\\right)$$"
      ],
      "text/plain": [
       "x⋅(x + 2⋅y)"
      ]
     },
     "execution_count": 8,
     "metadata": {},
     "output_type": "execute_result"
    }
   ],
   "source": [
    "factor(expanded)"
   ]
  },
  {
   "cell_type": "code",
   "execution_count": 9,
   "metadata": {},
   "outputs": [
    {
     "data": {
      "image/png": "[encoded data removed]",
      "text/latex": [
       "$$- e^{x} \\sin{\\left (x \\right )} + e^{x} \\cos{\\left (x \\right )}$$"
      ],
      "text/plain": [
       "   x           x       \n",
       "- ℯ ⋅sin(x) + ℯ ⋅cos(x)"
      ]
     },
     "execution_count": 9,
     "metadata": {},
     "output_type": "execute_result"
    }
   ],
   "source": [
    "diff(cos(x)*exp(x), x)"
   ]
  },
  {
   "cell_type": "code",
   "execution_count": 10,
   "metadata": {},
   "outputs": [
    {
     "data": {
      "image/png": "[encoded data removed]",
      "text/latex": [
       "$$e^{x} \\sin{\\left (x \\right )}$$"
      ],
      "text/plain": [
       " x       \n",
       "ℯ ⋅sin(x)"
      ]
     },
     "execution_count": 10,
     "metadata": {},
     "output_type": "execute_result"
    }
   ],
   "source": [
    "integrate(exp(x)*sin(x) + exp(x)*cos(x),x)"
   ]
  },
  {
   "cell_type": "code",
   "execution_count": 11,
   "metadata": {},
   "outputs": [
    {
     "data": {
      "image/png": "[encoded data removed]",
      "text/latex": [
       "$$\\frac{\\sqrt{2} \\sqrt{\\pi}}{2}$$"
      ],
      "text/plain": [
       "√2⋅√π\n",
       "─────\n",
       "  2  "
      ]
     },
     "execution_count": 11,
     "metadata": {},
     "output_type": "execute_result"
    }
   ],
   "source": [
    "integrate(sin(x**2), (x, -oo, oo))"
   ]
  },
  {
   "cell_type": "code",
   "execution_count": 12,
   "metadata": {},
   "outputs": [
    {
     "data": {
      "image/png": "[encoded data removed]",
      "text/latex": [
       "$$1$$"
      ],
      "text/plain": [
       "1"
      ]
     },
     "execution_count": 12,
     "metadata": {},
     "output_type": "execute_result"
    }
   ],
   "source": [
    "limit(sin(x)/x, x, 0)"
   ]
  },
  {
   "cell_type": "code",
   "execution_count": 13,
   "metadata": {},
   "outputs": [
    {
     "data": {
      "image/png": "[encoded data removed]",
      "text/latex": [
       "$$\\left [ - \\sqrt{2}, \\quad \\sqrt{2}\\right ]$$"
      ],
      "text/plain": [
       "[-√2, √2]"
      ]
     },
     "execution_count": 13,
     "metadata": {},
     "output_type": "execute_result"
    }
   ],
   "source": [
    "solve(x**2 - 2, x)"
   ]
  },
  {
   "cell_type": "code",
   "execution_count": 14,
   "metadata": {},
   "outputs": [
    {
     "data": {
      "image/png": "[encoded data removed]",
      "text/latex": [
       "$$\\left [ - \\sqrt{2}, \\quad \\sqrt{2}\\right ]$$"
      ],
      "text/plain": [
       "[-√2, √2]"
      ]
     },
     "execution_count": 14,
     "metadata": {},
     "output_type": "execute_result"
    }
   ],
   "source": [
    "solve(x**2 - 2, x)"
   ]
  },
  {
   "cell_type": "markdown",
   "metadata": {},
   "source": [
    "[-sqrt(2), sqrt(2)]\n",
    "[-sqrt(2), sqrt(2)]\n",
    "\n"
   ]
  },
  {
   "cell_type": "code",
   "execution_count": 16,
   "metadata": {},
   "outputs": [
    {
     "data": {
      "image/png": "[encoded data removed]",
      "text/latex": [
       "$$y{\\left (t \\right )} = C_{2} e^{- t} + \\left(C_{1} + \\frac{t}{2}\\right) e^{t}$$"
      ],
      "text/plain": [
       "           -t   ⎛     t⎞  t\n",
       "y(t) = C₂⋅ℯ   + ⎜C₁ + ─⎟⋅ℯ \n",
       "                ⎝     2⎠   "
      ]
     },
     "execution_count": 16,
     "metadata": {},
     "output_type": "execute_result"
    }
   ],
   "source": [
    "y = Function('y')\n",
    "t = symbols('t')\n",
    "dsolve(Eq(y(t).diff(t, t) - y(t), exp(t)), y(t))"
   ]
  },
  {
   "cell_type": "code",
   "execution_count": 17,
   "metadata": {},
   "outputs": [
    {
     "data": {
      "image/png": "[encoded data removed]",
      "text/latex": [
       "$$\\left \\{ \\frac{3}{2} + \\frac{\\sqrt{17}}{2} : 1, \\quad - \\frac{\\sqrt{17}}{2} + \\frac{3}{2} : 1\\right \\}$$"
      ],
      "text/plain": [
       "⎧3   √17       √17   3   ⎫\n",
       "⎨─ + ───: 1, - ─── + ─: 1⎬\n",
       "⎩2    2         2    2   ⎭"
      ]
     },
     "execution_count": 17,
     "metadata": {},
     "output_type": "execute_result"
    }
   ],
   "source": [
    "Matrix([[1, 2], [2, 2]]).eigenvals()"
   ]
  },
  {
   "cell_type": "code",
   "execution_count": 18,
   "metadata": {},
   "outputs": [
    {
     "ename": "NameError",
     "evalue": "name 'nu' is not defined",
     "output_type": "error",
     "traceback": [
      "\u001b[0;31m---------------------------------------------------------------------------\u001b[0m",
      "\u001b[0;31mNameError\u001b[0m                                 Traceback (most recent call last)",
      "\u001b[0;32m<ipython-input-18-40a9661a2e2c>\u001b[0m in \u001b[0;36m<module>\u001b[0;34m()\u001b[0m\n\u001b[0;32m----> 1\u001b[0;31m \u001b[0mbesselj\u001b[0m\u001b[0;34m(\u001b[0m\u001b[0mnu\u001b[0m\u001b[0;34m,\u001b[0m \u001b[0mz\u001b[0m\u001b[0;34m)\u001b[0m\u001b[0;34m.\u001b[0m\u001b[0mrewrite\u001b[0m\u001b[0;34m(\u001b[0m\u001b[0mjn\u001b[0m\u001b[0;34m)\u001b[0m\u001b[0;34m\u001b[0m\u001b[0m\n\u001b[0m",
      "\u001b[0;31mNameError\u001b[0m: name 'nu' is not defined"
     ]
    }
   ],
   "source": [
    "besselj(nu, z).rewrite(jn)"
   ]
  },
  {
   "cell_type": "code",
   "execution_count": 19,
   "metadata": {},
   "outputs": [
    {
     "data": {
      "text/plain": [
       "'\\\\int_{0}^{\\\\pi} \\\\cos^{2}{\\\\left (x \\\\right )}\\\\, dx'"
      ]
     },
     "execution_count": 19,
     "metadata": {},
     "output_type": "execute_result"
    }
   ],
   "source": [
    "latex(Integral(cos(x)**2, (x, 0, pi)))"
   ]
  },
  {
   "cell_type": "code",
   "execution_count": 20,
   "metadata": {},
   "outputs": [
    {
     "data": {
      "image/png": "[encoded data removed]",
      "text/latex": [
       "$$3$$"
      ],
      "text/plain": [
       "3"
      ]
     },
     "execution_count": 20,
     "metadata": {},
     "output_type": "execute_result"
    }
   ],
   "source": [
    "expr = x + 1\n",
    "expr.subs(x, 2)"
   ]
  },
  {
   "cell_type": "markdown",
   "metadata": {},
   "source": [
    "\n",
    "# Matrices\n",
    "\n"
   ]
  },
  {
   "cell_type": "code",
   "execution_count": 21,
   "metadata": {},
   "outputs": [
    {
     "data": {
      "image/png": "[encoded data removed]",
      "text/latex": [
       "$$\\left ( \\left[\\begin{matrix}1 & 6\\\\-2 & 10\\end{matrix}\\right], \\quad \\left[\\begin{matrix}0 & 24\\\\0 & 15\\end{matrix}\\right], \\quad \\left[\\begin{matrix}-5 & 12\\\\-8 & 3\\end{matrix}\\right], \\quad \\left[\\begin{matrix}\\frac{1}{3} & - \\frac{1}{3}\\\\\\frac{2}{9} & \\frac{1}{9}\\end{matrix}\\right], \\quad \\left[\\begin{matrix}1 & -2\\\\3 & 3\\end{matrix}\\right]\\right )$$"
      ],
      "text/plain": [
       "⎛⎡1   6 ⎤  ⎡0  24⎤  ⎡-5  12⎤  ⎡1/3  -1/3⎤  ⎡1  -2⎤⎞\n",
       "⎜⎢      ⎥, ⎢     ⎥, ⎢      ⎥, ⎢         ⎥, ⎢     ⎥⎟\n",
       "⎝⎣-2  10⎦  ⎣0  15⎦  ⎣-8  3 ⎦  ⎣2/9  1/9 ⎦  ⎣3  3 ⎦⎠"
      ]
     },
     "execution_count": 21,
     "metadata": {},
     "output_type": "execute_result"
    }
   ],
   "source": [
    "M = Matrix([[1, 3], [-2, 3]])\n",
    "N = Matrix([[0, 3], [0, 7]])\n",
    "M+N,M*N,M**2,M**-1,M.T"
   ]
  },
  {
   "cell_type": "code",
   "execution_count": 22,
   "metadata": {},
   "outputs": [
    {
     "data": {
      "image/png": "[encoded data removed]",
      "text/latex": [
       "$$x^{2} - 4 x + 9$$"
      ],
      "text/plain": [
       " 2          \n",
       "x  - 4⋅x + 9"
      ]
     },
     "execution_count": 22,
     "metadata": {},
     "output_type": "execute_result"
    }
   ],
   "source": [
    "p = M.charpoly(x)\n",
    "factor(p)"
   ]
  },
  {
   "cell_type": "code",
   "execution_count": 23,
   "metadata": {},
   "outputs": [
    {
     "data": {
      "image/png": "[encoded data removed]",
      "text/latex": [
       "$$9$$"
      ],
      "text/plain": [
       "9"
      ]
     },
     "execution_count": 23,
     "metadata": {},
     "output_type": "execute_result"
    }
   ],
   "source": [
    "p.subs(x,0)"
   ]
  },
  {
   "cell_type": "markdown",
   "metadata": {},
   "source": [
    "\n",
    "# Permutations\n",
    "\n"
   ]
  },
  {
   "cell_type": "markdown",
   "metadata": {},
   "source": [
    "`a*b` means `a` is applied first.\n",
    "\n"
   ]
  },
  {
   "cell_type": "code",
   "execution_count": 24,
   "metadata": {},
   "outputs": [
    {
     "data": {
      "image/png": "[encoded data removed]",
      "text/latex": [
       "$$\\left ( \\left( 1\\; 2\\right), \\quad \\left( 0\\; 1\\; 2\\right), \\quad \\left( 0\\; 1\\right)\\left( 2\\right)\\right )$$"
      ],
      "text/plain": [
       "((1 2), (0 1 2), (2)(0 1))"
      ]
     },
     "execution_count": 24,
     "metadata": {},
     "output_type": "execute_result"
    }
   ],
   "source": [
    "from sympy.combinatorics import Permutation \n",
    "a = Permutation([0, 2, 1])\n",
    "b = Permutation([1, 2, 0])\n",
    "a,b,a*b"
   ]
  },
  {
   "cell_type": "markdown",
   "metadata": {},
   "source": [
    "\n",
    "# Groups\n",
    "\n"
   ]
  },
  {
   "cell_type": "markdown",
   "metadata": {},
   "source": [
    "see\n",
    "[http://docs.sympy.org/latest/modules/combinatorics/named_groups.html](http://docs.sympy.org/latest/modules/combinatorics/named_groups.html)\n",
    "\n"
   ]
  },
  {
   "cell_type": "code",
   "execution_count": 25,
   "metadata": {},
   "outputs": [
    {
     "data": {
      "image/png": "[encoded data removed]",
      "text/latex": [
       "$$\\left [ \\left( 0\\; 1\\; 2\\right), \\quad \\left( 0\\; 2\\right), \\quad \\left( 1\\; 2\\right), \\quad \\left( 0\\; 2\\; 1\\right), \\quad \\left( 2\\right), \\quad \\left( 0\\; 1\\right)\\left( 2\\right)\\right ]$$"
      ],
      "text/plain": [
       "[(0 1 2), (0 2), (1 2), (0 2 1), (2), (2)(0 1)]"
      ]
     },
     "execution_count": 25,
     "metadata": {},
     "output_type": "execute_result"
    }
   ],
   "source": [
    "from sympy.combinatorics.named_groups import SymmetricGroup\n",
    "\n",
    "G=SymmetricGroup(3)\n",
    "list(G.elements)"
   ]
  },
  {
   "cell_type": "code",
   "execution_count": 26,
   "metadata": {},
   "outputs": [],
   "source": [
    "def char_function(G, g, i, j):\n",
    "    elems = list(G.elements)\n",
    "    n = len(elems)\n",
    "    if g*elems[i] == elems[j]:\n",
    "        return 1\n",
    "    else:\n",
    "        return 0"
   ]
  },
  {
   "cell_type": "code",
   "execution_count": 27,
   "metadata": {},
   "outputs": [],
   "source": [
    "def regular_representation(G):\n",
    "    elems = list(G.elements)\n",
    "    n = len(elems)\n",
    "    def char_function(i, j):\n",
    "        if elems[i]*g == elems[j]:\n",
    "            return 1\n",
    "        else:\n",
    "            return 0\n",
    "    mydict = {}\n",
    "    for g in elems:\n",
    "        mydict[g] = Matrix(n, n, char_function)\n",
    "    return mydict"
   ]
  },
  {
   "cell_type": "code",
   "execution_count": 28,
   "metadata": {},
   "outputs": [
    {
     "data": {
      "image/png": "[encoded data removed]",
      "text/latex": [
       "$$8$$"
      ],
      "text/plain": [
       "8"
      ]
     },
     "execution_count": 28,
     "metadata": {},
     "output_type": "execute_result"
    }
   ],
   "source": [
    "from sympy.combinatorics.named_groups import DihedralGroup\n",
    "#H=SymmetricGroup(3)\n",
    "H=DihedralGroup(4)\n",
    "rep=regular_representation(H)\n",
    "len(H.elements)"
   ]
  },
  {
   "cell_type": "code",
   "execution_count": 29,
   "metadata": {},
   "outputs": [
    {
     "name": "stdout",
     "output_type": "stream",
     "text": [
      "(0 1)(2 3) (0 1)(2 3) Correct!\n",
      "(0 1)(2 3) (3) Correct!\n",
      "(0 1)(2 3) (0 2)(1 3) Correct!\n",
      "(0 1)(2 3) (0 1 2 3) Correct!\n",
      "(0 1)(2 3) (3)(0 2) Correct!\n",
      "(0 1)(2 3) (0 3 2 1) Correct!\n",
      "(0 1)(2 3) (1 3) Correct!\n",
      "(0 1)(2 3) (0 3)(1 2) Correct!\n",
      "(3) (0 1)(2 3) Correct!\n",
      "(3) (3) Correct!\n",
      "(3) (0 2)(1 3) Correct!\n",
      "(3) (0 1 2 3) Correct!\n",
      "(3) (3)(0 2) Correct!\n",
      "(3) (0 3 2 1) Correct!\n",
      "(3) (1 3) Correct!\n",
      "(3) (0 3)(1 2) Correct!\n",
      "(0 2)(1 3) (0 1)(2 3) Correct!\n",
      "(0 2)(1 3) (3) Correct!\n",
      "(0 2)(1 3) (0 2)(1 3) Correct!\n",
      "(0 2)(1 3) (0 1 2 3) Correct!\n",
      "(0 2)(1 3) (3)(0 2) Correct!\n",
      "(0 2)(1 3) (0 3 2 1) Correct!\n",
      "(0 2)(1 3) (1 3) Correct!\n",
      "(0 2)(1 3) (0 3)(1 2) Correct!\n",
      "(0 1 2 3) (0 1)(2 3) Correct!\n",
      "(0 1 2 3) (3) Correct!\n",
      "(0 1 2 3) (0 2)(1 3) Correct!\n",
      "(0 1 2 3) (0 1 2 3) Correct!\n",
      "(0 1 2 3) (3)(0 2) Correct!\n",
      "(0 1 2 3) (0 3 2 1) Correct!\n",
      "(0 1 2 3) (1 3) Correct!\n",
      "(0 1 2 3) (0 3)(1 2) Correct!\n",
      "(3)(0 2) (0 1)(2 3) Correct!\n",
      "(3)(0 2) (3) Correct!\n",
      "(3)(0 2) (0 2)(1 3) Correct!\n",
      "(3)(0 2) (0 1 2 3) Correct!\n",
      "(3)(0 2) (3)(0 2) Correct!\n",
      "(3)(0 2) (0 3 2 1) Correct!\n",
      "(3)(0 2) (1 3) Correct!\n",
      "(3)(0 2) (0 3)(1 2) Correct!\n",
      "(0 3 2 1) (0 1)(2 3) Correct!\n",
      "(0 3 2 1) (3) Correct!\n",
      "(0 3 2 1) (0 2)(1 3) Correct!\n",
      "(0 3 2 1) (0 1 2 3) Correct!\n",
      "(0 3 2 1) (3)(0 2) Correct!\n",
      "(0 3 2 1) (0 3 2 1) Correct!\n",
      "(0 3 2 1) (1 3) Correct!\n",
      "(0 3 2 1) (0 3)(1 2) Correct!\n",
      "(1 3) (0 1)(2 3) Correct!\n",
      "(1 3) (3) Correct!\n",
      "(1 3) (0 2)(1 3) Correct!\n",
      "(1 3) (0 1 2 3) Correct!\n",
      "(1 3) (3)(0 2) Correct!\n",
      "(1 3) (0 3 2 1) Correct!\n",
      "(1 3) (1 3) Correct!\n",
      "(1 3) (0 3)(1 2) Correct!\n",
      "(0 3)(1 2) (0 1)(2 3) Correct!\n",
      "(0 3)(1 2) (3) Correct!\n",
      "(0 3)(1 2) (0 2)(1 3) Correct!\n",
      "(0 3)(1 2) (0 1 2 3) Correct!\n",
      "(0 3)(1 2) (3)(0 2) Correct!\n",
      "(0 3)(1 2) (0 3 2 1) Correct!\n",
      "(0 3)(1 2) (1 3) Correct!\n",
      "(0 3)(1 2) (0 3)(1 2) Correct!\n"
     ]
    },
    {
     "data": {
      "image/png": "[encoded data removed]",
      "text/latex": [
       "$$\\left[\\begin{matrix}0 & 1 & 0 & 0 & 0 & 0 & 0 & 0\\\\1 & 0 & 0 & 0 & 0 & 0 & 0 & 0\\\\0 & 0 & 0 & 0 & 0 & 0 & 0 & 1\\\\0 & 0 & 0 & 0 & 0 & 0 & 1 & 0\\\\0 & 0 & 0 & 0 & 0 & 1 & 0 & 0\\\\0 & 0 & 0 & 0 & 1 & 0 & 0 & 0\\\\0 & 0 & 0 & 1 & 0 & 0 & 0 & 0\\\\0 & 0 & 1 & 0 & 0 & 0 & 0 & 0\\end{matrix}\\right]$$"
      ],
      "text/plain": [
       "⎡0  1  0  0  0  0  0  0⎤\n",
       "⎢                      ⎥\n",
       "⎢1  0  0  0  0  0  0  0⎥\n",
       "⎢                      ⎥\n",
       "⎢0  0  0  0  0  0  0  1⎥\n",
       "⎢                      ⎥\n",
       "⎢0  0  0  0  0  0  1  0⎥\n",
       "⎢                      ⎥\n",
       "⎢0  0  0  0  0  1  0  0⎥\n",
       "⎢                      ⎥\n",
       "⎢0  0  0  0  1  0  0  0⎥\n",
       "⎢                      ⎥\n",
       "⎢0  0  0  1  0  0  0  0⎥\n",
       "⎢                      ⎥\n",
       "⎣0  0  1  0  0  0  0  0⎦"
      ]
     },
     "execution_count": 29,
     "metadata": {},
     "output_type": "execute_result"
    }
   ],
   "source": [
    "for g in list(H.elements):\n",
    "    for h in list(H.elements):\n",
    "        if rep[g*h] != rep[g]*rep[h]:\n",
    "            print(g,h,\"Wrong!\")\n",
    "        else:\n",
    "            print(g,h,\"Correct!\")\n",
    "\n",
    "rep[list(H.elements)[0]]"
   ]
  },
  {
   "cell_type": "code",
   "execution_count": 31,
   "metadata": {},
   "outputs": [
    {
     "data": {
      "image/png": "[encoded data removed]",
      "text/latex": [
       "$$\\left[\\begin{matrix}0 & 0 & 0 & 0 & 0 & 0 & 0 & 1\\\\0 & 0 & 1 & 0 & 0 & 0 & 0 & 0\\\\0 & 1 & 0 & 0 & 0 & 0 & 0 & 0\\\\0 & 0 & 0 & 0 & 0 & 1 & 0 & 0\\\\0 & 0 & 0 & 0 & 0 & 0 & 1 & 0\\\\0 & 0 & 0 & 1 & 0 & 0 & 0 & 0\\\\0 & 0 & 0 & 0 & 1 & 0 & 0 & 0\\\\1 & 0 & 0 & 0 & 0 & 0 & 0 & 0\\end{matrix}\\right]$$"
      ],
      "text/plain": [
       "⎡0  0  0  0  0  0  0  1⎤\n",
       "⎢                      ⎥\n",
       "⎢0  0  1  0  0  0  0  0⎥\n",
       "⎢                      ⎥\n",
       "⎢0  1  0  0  0  0  0  0⎥\n",
       "⎢                      ⎥\n",
       "⎢0  0  0  0  0  1  0  0⎥\n",
       "⎢                      ⎥\n",
       "⎢0  0  0  0  0  0  1  0⎥\n",
       "⎢                      ⎥\n",
       "⎢0  0  0  1  0  0  0  0⎥\n",
       "⎢                      ⎥\n",
       "⎢0  0  0  0  1  0  0  0⎥\n",
       "⎢                      ⎥\n",
       "⎣1  0  0  0  0  0  0  0⎦"
      ]
     },
     "execution_count": 31,
     "metadata": {},
     "output_type": "execute_result"
    }
   ],
   "source": [
    "rep[list(H.elements)[2]]"
   ]
  },
  {
   "cell_type": "code",
   "execution_count": null,
   "metadata": {},
   "outputs": [],
   "source": []
  }
 ],
 "metadata": {
  "kernelspec": {
   "display_name": "Python 3",
   "language": "python",
   "name": "python3"
  },
  "language_info": {
   "codemirror_mode": {
    "name": "ipython",
    "version": 3
   },
   "file_extension": ".py",
   "mimetype": "text/x-python",
   "name": "python",
   "nbconvert_exporter": "python",
   "pygments_lexer": "ipython3",
   "version": "3.6.6"
  }
 },
 "nbformat": 4,
 "nbformat_minor": 1
}
